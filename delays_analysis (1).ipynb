{
 "cells": [
  {
   "cell_type": "markdown",
   "id": "4a64a5dc-1d9b-4c04-82d4-2457c33ff4bd",
   "metadata": {},
   "source": [
    "# Тестовое задание (аналитик данных)\n",
    "\n",
    "Есть три csv файла с данными. Загружаем их и с помощью pandas анализируем:\n"
   ]
  },
  {
   "cell_type": "code",
   "execution_count": 1,
   "id": "83943b6f-8abe-428f-9085-424be1000b3b",
   "metadata": {},
   "outputs": [],
   "source": [
    "import pandas as pd"
   ]
  },
  {
   "cell_type": "code",
   "execution_count": 23,
   "id": "ed0c8668-5be0-4842-a1ba-469220bb3e11",
   "metadata": {},
   "outputs": [],
   "source": [
    "orders_path = 'orders.csv'\n",
    "plan_path = 'plan.csv'\n",
    "payments_path = 'payments.csv'\n"
   ]
  },
  {
   "cell_type": "code",
   "execution_count": 24,
   "id": "b704b2e2-32b7-4ecd-95be-ca5d36d49516",
   "metadata": {},
   "outputs": [],
   "source": [
    "orders_df = pd.read_csv(orders_path)\n",
    "plan_df = pd.read_csv(plan_path)\n",
    "payments_df = pd.read_csv(payments_path)"
   ]
  },
  {
   "cell_type": "code",
   "execution_count": 5,
   "id": "9bd54ec9-4f86-4f45-9f5e-6cad89de91c8",
   "metadata": {},
   "outputs": [
    {
     "name": "stdout",
     "output_type": "stream",
     "text": [
      "<class 'pandas.core.frame.DataFrame'>\n",
      "RangeIndex: 55748 entries, 0 to 55747\n",
      "Data columns (total 5 columns):\n",
      " #   Column      Non-Null Count  Dtype  \n",
      "---  ------      --------------  -----  \n",
      " 0   order_id    55748 non-null  int64  \n",
      " 1   created_at  55748 non-null  object \n",
      " 2   put_at      55748 non-null  object \n",
      " 3   closed_at   46472 non-null  object \n",
      " 4   issued_sum  55748 non-null  float64\n",
      "dtypes: float64(1), int64(1), object(3)\n",
      "memory usage: 2.1+ MB\n"
     ]
    }
   ],
   "source": [
    "orders_df.info() http://localhost:8888/lab/tree/delays_analysis.ipynb"
   ]
  },
  {
   "cell_type": "markdown",
   "id": "a225aace-88cc-482f-9c86-45cf31240daf",
   "metadata": {},
   "source": [
    "orders.csv (55 748 записей):\n",
    "- Содержит информацию о заявках: дата создания, выдачи, закрытия, сумма.\n",
    "- closed_at имеет пропуски (9276).\n"
   ]
  },
  {
   "cell_type": "code",
   "execution_count": 27,
   "id": "bca74c7a-e9ab-4241-a15b-1e27bde50b1f",
   "metadata": {},
   "outputs": [
    {
     "name": "stdout",
     "output_type": "stream",
     "text": [
      "<class 'pandas.core.frame.DataFrame'>\n",
      "RangeIndex: 420282 entries, 0 to 420281\n",
      "Data columns (total 3 columns):\n",
      " #   Column          Non-Null Count   Dtype         \n",
      "---  ------          --------------   -----         \n",
      " 0   order_id        420282 non-null  int64         \n",
      " 1   plan_at         420282 non-null  datetime64[ns]\n",
      " 2   plan_sum_total  420282 non-null  float64       \n",
      "dtypes: datetime64[ns](1), float64(1), int64(1)\n",
      "memory usage: 9.6 MB\n"
     ]
    }
   ],
   "source": [
    "plan_df.info()"
   ]
  },
  {
   "cell_type": "markdown",
   "id": "0a161c49-78be-4aa7-bfc6-e5c18c537d06",
   "metadata": {},
   "source": [
    "plan.csv (420 282 записей):\n",
    "- График плановых платежей: дата платежа и необходимая сумма.\n",
    "- Все значения заполнены.\n"
   ]
  },
  {
   "cell_type": "code",
   "execution_count": 7,
   "id": "cea736fe-80e6-46bf-b74f-057e8a0b6b31",
   "metadata": {},
   "outputs": [
    {
     "name": "stdout",
     "output_type": "stream",
     "text": [
      "<class 'pandas.core.frame.DataFrame'>\n",
      "RangeIndex: 143284 entries, 0 to 143283\n",
      "Data columns (total 3 columns):\n",
      " #   Column    Non-Null Count   Dtype  \n",
      "---  ------    --------------   -----  \n",
      " 0   order_id  143284 non-null  int64  \n",
      " 1   paid_at   143284 non-null  object \n",
      " 2   paid_sum  143284 non-null  float64\n",
      "dtypes: float64(1), int64(1), object(1)\n",
      "memory usage: 3.3+ MB\n"
     ]
    }
   ],
   "source": [
    "payments_df.info()"
   ]
  },
  {
   "cell_type": "markdown",
   "id": "83b6b9cb-df47-4205-94cf-15d8a226dee7",
   "metadata": {},
   "source": [
    "payments.csv (143 284 записей):\n",
    "\n",
    "- Фактические платежи: дата и сумма.\n",
    "- Все данные заполнены.\n",
    "- Есть 5 дубликатов\n"
   ]
  },
  {
   "cell_type": "code",
   "execution_count": 9,
   "id": "9ccc28a7-33f4-4143-80b0-4db80695518d",
   "metadata": {},
   "outputs": [
    {
     "data": {
      "text/plain": [
       "(    order_id               created_at                   put_at  \\\n",
       " 0  400001732  2022-06-02 00:00:23.997  2022-06-02 20:18:00.180   \n",
       " 1  400005838  2022-06-02 00:10:22.997  2022-06-02 15:41:33.267   \n",
       " 2  400007915  2022-06-02 00:18:04.000  2022-06-05 19:17:38.547   \n",
       " 3  400008952  2022-06-02 00:22:07.000  2022-06-03 14:25:18.033   \n",
       " 4  400009027  2022-06-02 00:25:39.000  2022-06-02 00:40:40.320   \n",
       " \n",
       "                  closed_at  issued_sum  \n",
       " 0  2022-10-17 11:52:22.190     13600.0  \n",
       " 1  2022-06-02 17:38:43.917     20000.0  \n",
       " 2  2022-06-21 21:55:51.877      5820.0  \n",
       " 3  2022-07-12 10:47:46.307      9000.0  \n",
       " 4  2022-06-22 14:15:07.423      5000.0  ,\n",
       "     order_id     plan_at  plan_sum_total\n",
       " 0  400001732  2022-06-02          5600.0\n",
       " 1  400001732  2022-07-02          9450.0\n",
       " 2  400001732  2022-08-01         12170.0\n",
       " 3  400001732  2022-08-31         14890.0\n",
       " 4  400001732  2022-09-30         17610.0,\n",
       "     order_id                  paid_at  paid_sum\n",
       " 0  400013633  2022-06-02 00:48:13.800    2500.0\n",
       " 1  400018480  2022-06-02 01:52:05.707    1070.0\n",
       " 2  400032001  2022-06-02 04:55:40.307    4200.0\n",
       " 3  400033195  2022-06-02 05:44:23.480    2850.0\n",
       " 4  400039407  2022-06-02 06:53:54.503   10100.0)"
      ]
     },
     "execution_count": 9,
     "metadata": {},
     "output_type": "execute_result"
    }
   ],
   "source": [
    "orders_df.head(), plan_df.head(), payments_df.head()"
   ]
  },
  {
   "cell_type": "code",
   "execution_count": 26,
   "id": "a9a20e13-01b7-43ac-b3a3-1664aa5387e9",
   "metadata": {},
   "outputs": [],
   "source": [
    "orders_df['created_at'] = pd.to_datetime(orders_df['created_at'])\n",
    "orders_df['put_at'] = pd.to_datetime(orders_df['put_at'])\n",
    "orders_df['closed_at'] = pd.to_datetime(orders_df['closed_at'])\n",
    "plan_df['plan_at'] = pd.to_datetime(plan_df['plan_at'])\n",
    "payments_df['paid_at'] = pd.to_datetime(payments_df['paid_at'])"
   ]
  },
  {
   "cell_type": "markdown",
   "id": "01846a5e-2510-464c-bc60-993d37897894",
   "metadata": {},
   "source": [
    "Переведем дату и время из строкового типа в datetime"
   ]
  },
  {
   "cell_type": "code",
   "execution_count": 31,
   "id": "90332664-5b1a-49c8-92f2-9b4d318f1d2f",
   "metadata": {},
   "outputs": [
    {
     "name": "stdout",
     "output_type": "stream",
     "text": [
      "Дубликатов в 1: 0 Дубликатов в 2: 0 Дубликатов в 3: 0\n"
     ]
    }
   ],
   "source": [
    "print('Дубликатов в 1:', orders_df.duplicated().sum(), 'Дубликатов в 2:', plan_df.duplicated().sum(), 'Дубликатов в 3:', payments_df.duplicated().sum())"
   ]
  },
  {
   "cell_type": "markdown",
   "id": "e93c2d10-5676-4120-8c14-39c5b70e8096",
   "metadata": {},
   "source": [
    "В payments есть дубликаты. Они возможны при ошибке в выгрузки данных. Удалим их."
   ]
  },
  {
   "cell_type": "code",
   "execution_count": 29,
   "id": "ae78c98a-abcc-4ecc-8f48-a7bba0871f6c",
   "metadata": {},
   "outputs": [
    {
     "name": "stdout",
     "output_type": "stream",
     "text": [
      "         order_id                 paid_at  paid_sum\n",
      "11474   411504997 2022-06-24 17:14:56.997   10100.0\n",
      "11475   411504997 2022-06-24 17:14:56.997   10100.0\n",
      "12469   422632789 2022-06-25 23:16:16.000    8080.0\n",
      "12470   422632789 2022-06-25 23:16:16.000    8080.0\n",
      "37758   432761640 2022-07-21 12:38:12.000     150.0\n",
      "37759   432761640 2022-07-21 12:38:12.000     150.0\n",
      "38413   420036980 2022-07-21 20:08:58.997    4800.0\n",
      "38414   420036980 2022-07-21 20:08:58.997    4800.0\n",
      "139589  456075017 2022-11-22 19:44:08.793    2720.0\n",
      "139590  456075017 2022-11-22 19:44:08.793    2720.0\n"
     ]
    }
   ],
   "source": [
    "dubl_rows = payments_df[payments_df.duplicated(keep=False)]\n",
    "print(dubl_rows)"
   ]
  },
  {
   "cell_type": "code",
   "execution_count": 30,
   "id": "d33443ce-b0b7-47dd-b5d8-a9c95ce7aec7",
   "metadata": {},
   "outputs": [],
   "source": [
    "payments_df = payments_df.drop_duplicates()"
   ]
  },
  {
   "cell_type": "markdown",
   "id": "61ae70e9-7f0b-449e-af4b-8a62f670d62b",
   "metadata": {},
   "source": [
    "Будем считать процент количества просрочек к плановому числу выплат в каждом месяце\n",
    "Так как данные актуальны на 08.12.2022 будем учитывать плановые выплаты до этого числа\n"
   ]
  },
  {
   "cell_type": "code",
   "execution_count": 33,
   "id": "384ca85d-24ee-493a-a31a-0367c9c096b6",
   "metadata": {},
   "outputs": [],
   "source": [
    "plan_df = plan_df[plan_df['plan_at'] <= '2022-12-08']"
   ]
  },
  {
   "cell_type": "code",
   "execution_count": 36,
   "id": "676f648b-3ec1-49de-a2aa-207a0258882e",
   "metadata": {},
   "outputs": [
    {
     "data": {
      "text/html": [
       "<div>\n",
       "<style scoped>\n",
       "    .dataframe tbody tr th:only-of-type {\n",
       "        vertical-align: middle;\n",
       "    }\n",
       "\n",
       "    .dataframe tbody tr th {\n",
       "        vertical-align: top;\n",
       "    }\n",
       "\n",
       "    .dataframe thead th {\n",
       "        text-align: right;\n",
       "    }\n",
       "</style>\n",
       "<table border=\"1\" class=\"dataframe\">\n",
       "  <thead>\n",
       "    <tr style=\"text-align: right;\">\n",
       "      <th></th>\n",
       "      <th>order_id</th>\n",
       "      <th>plan_at</th>\n",
       "      <th>plan_sum_total</th>\n",
       "      <th>month</th>\n",
       "    </tr>\n",
       "  </thead>\n",
       "  <tbody>\n",
       "    <tr>\n",
       "      <th>0</th>\n",
       "      <td>400001732</td>\n",
       "      <td>2022-06-02</td>\n",
       "      <td>5600.0</td>\n",
       "      <td>2022-06</td>\n",
       "    </tr>\n",
       "    <tr>\n",
       "      <th>1</th>\n",
       "      <td>400001732</td>\n",
       "      <td>2022-07-02</td>\n",
       "      <td>9450.0</td>\n",
       "      <td>2022-07</td>\n",
       "    </tr>\n",
       "    <tr>\n",
       "      <th>2</th>\n",
       "      <td>400001732</td>\n",
       "      <td>2022-08-01</td>\n",
       "      <td>12170.0</td>\n",
       "      <td>2022-08</td>\n",
       "    </tr>\n",
       "    <tr>\n",
       "      <th>3</th>\n",
       "      <td>400001732</td>\n",
       "      <td>2022-08-31</td>\n",
       "      <td>14890.0</td>\n",
       "      <td>2022-08</td>\n",
       "    </tr>\n",
       "    <tr>\n",
       "      <th>4</th>\n",
       "      <td>400001732</td>\n",
       "      <td>2022-09-30</td>\n",
       "      <td>17610.0</td>\n",
       "      <td>2022-09</td>\n",
       "    </tr>\n",
       "  </tbody>\n",
       "</table>\n",
       "</div>"
      ],
      "text/plain": [
       "    order_id    plan_at  plan_sum_total    month\n",
       "0  400001732 2022-06-02          5600.0  2022-06\n",
       "1  400001732 2022-07-02          9450.0  2022-07\n",
       "2  400001732 2022-08-01         12170.0  2022-08\n",
       "3  400001732 2022-08-31         14890.0  2022-08\n",
       "4  400001732 2022-09-30         17610.0  2022-09"
      ]
     },
     "execution_count": 36,
     "metadata": {},
     "output_type": "execute_result"
    }
   ],
   "source": [
    "plan_df.head()"
   ]
  },
  {
   "cell_type": "code",
   "execution_count": 35,
   "id": "788b9e0f-4a79-47de-9051-20fdb7e062e5",
   "metadata": {},
   "outputs": [
    {
     "name": "stderr",
     "output_type": "stream",
     "text": [
      "C:\\Users\\denis\\AppData\\Local\\Temp\\ipykernel_6356\\2273343486.py:1: SettingWithCopyWarning: \n",
      "A value is trying to be set on a copy of a slice from a DataFrame.\n",
      "Try using .loc[row_indexer,col_indexer] = value instead\n",
      "\n",
      "See the caveats in the documentation: https://pandas.pydata.org/pandas-docs/stable/user_guide/indexing.html#returning-a-view-versus-a-copy\n",
      "  plan_df['month'] = plan_df['plan_at'].dt.to_period('M')\n"
     ]
    }
   ],
   "source": [
    "plan_df['month'] = plan_df['plan_at'].dt.to_period('M')\n"
   ]
  },
  {
   "cell_type": "code",
   "execution_count": 48,
   "id": "022d05d4-1c46-47d6-a255-f065b6d70c99",
   "metadata": {},
   "outputs": [],
   "source": [
    "delays_by_month = {}\n",
    "\n",
    "\n",
    "for index, row in plan_df.iterrows():\n",
    "    order_id = row['order_id']\n",
    "    plan_date = row['plan_at']\n",
    "    plan_amount = row['plan_sum_total']\n",
    "    month = row['month']\n",
    "\n",
    "    if month not in delays_by_month:\n",
    "        delays_by_month[month] = [0,0]\n",
    "        \n",
    "    paid_amount = payments_df[\n",
    "        (payments_df['order_id'] == order_id) & (payments_df['paid_at'] <= plan_date)\n",
    "    ]['paid_sum'].sum()\n",
    "\n",
    "   \n",
    "    if paid_amount < plan_amount:\n",
    "        delays_by_month[month][0] += 1\n",
    "\n",
    "    delays_by_month[month][1] += 1\n",
    "\n",
    "\n"
   ]
  },
  {
   "cell_type": "code",
   "execution_count": 52,
   "id": "6745827f-0fde-44d0-9d57-d5e23dfe8564",
   "metadata": {},
   "outputs": [
    {
     "name": "stdout",
     "output_type": "stream",
     "text": [
      "<built-in method items of dict object at 0x00000250A1A5A2C0>\n"
     ]
    }
   ],
   "source": [
    "print(delays_by_month.items)"
   ]
  },
  {
   "cell_type": "code",
   "execution_count": 54,
   "id": "3788ce16-7783-435d-a059-f1df198cbc2e",
   "metadata": {},
   "outputs": [
    {
     "name": "stdout",
     "output_type": "stream",
     "text": [
      "     month  delayed_persentage\n",
      "0  2022-06           91.156841\n",
      "1  2022-07           76.013712\n",
      "2  2022-08           63.227991\n",
      "3  2022-09           43.535733\n",
      "4  2022-10           28.663564\n",
      "5  2022-11           23.386951\n",
      "6  2022-12           21.256803\n"
     ]
    }
   ],
   "source": [
    "delays_percentage_by_month = {\n",
    "    month: (delays[0] / delays[1]) * 100  \n",
    "    for month, delays in delays_by_month.items()\n",
    "}\n",
    "\n",
    "\n",
    "delays_df = pd.DataFrame(list(delays_percentage_by_month.items()), columns= ['month', 'delayed_persentage'])\n",
    "delays_df = delays_df.sort_values('month')\n",
    "print(delays_df)"
   ]
  },
  {
   "cell_type": "code",
   "execution_count": 55,
   "id": "5119f915-2985-47f0-9b84-9298683c41f2",
   "metadata": {},
   "outputs": [
    {
     "data": {
      "image/png": "[encoded data removed]",
      "text/plain": [
       "<Figure size 1000x500 with 1 Axes>"
      ]
     },
     "metadata": {},
     "output_type": "display_data"
    }
   ],
   "source": [
    "import matplotlib.pyplot as plt\n",
    "\n",
    "plt.figure(figsize=(10,5))\n",
    "plt.plot(delays_df['month'].astype(str), delays_df['delayed_persentage'], marker = 'o', linestyle='-')\n",
    "plt.xlabel('Месяц')\n",
    "plt.ylabel('Процент просрочек')\n",
    "plt.title(\"Динамика просрочек по месяцам\")\n",
    "plt.xticks(rotation=45)\n",
    "plt.grid(True)\n",
    "plt.show()"
   ]
  },
  {
   "cell_type": "markdown",
   "id": "fe058aff-e26b-4315-a9e1-589a843a5bf1",
   "metadata": {},
   "source": [
    "# Наблюдается снижение процента просрочек"
   ]
  },
  {
   "cell_type": "code",
   "execution_count": null,
   "id": "54ab1211-588c-4f6b-8d3b-ad8f58fdc187",
   "metadata": {},
   "outputs": [],
   "source": []
  },
  {
   "cell_type": "code",
   "execution_count": null,
   "id": "5b47194d-997e-4e1d-bffe-c56a3b68cdac",
   "metadata": {},
   "outputs": [],
   "source": []
  },
  {
   "cell_type": "code",
   "execution_count": null,
   "id": "b88df378-9970-4677-aeba-d045dd4b0a7a",
   "metadata": {},
   "outputs": [],
   "source": []
  },
  {
   "cell_type": "code",
   "execution_count": null,
   "id": "ba5d8093-82fd-42f4-b9eb-268d66c95a9a",
   "metadata": {},
   "outputs": [],
   "source": []
  },
  {
   "cell_type": "code",
   "execution_count": null,
   "id": "4647d3a8-7bcb-4876-a43b-730d44bac29c",
   "metadata": {},
   "outputs": [],
   "source": []
  },
  {
   "cell_type": "code",
   "execution_count": null,
   "id": "368548b3-5e3a-4677-838d-6c3aec7727d3",
   "metadata": {},
   "outputs": [],
   "source": []
  }
 ],
 "metadata": {
  "kernelspec": {
   "display_name": "Python 3 (ipykernel)",
   "language": "python",
   "name": "python3"
  },
  "language_info": {
   "codemirror_mode": {
    "name": "ipython",
    "version": 3
   },
   "file_extension": ".py",
   "mimetype": "text/x-python",
   "name": "python",
   "nbconvert_exporter": "python",
   "pygments_lexer": "ipython3",
   "version": "3.12.1"
  }
 },
 "nbformat": 4,
 "nbformat_minor": 5
}
